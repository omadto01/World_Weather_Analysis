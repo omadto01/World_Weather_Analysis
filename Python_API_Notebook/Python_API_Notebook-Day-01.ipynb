{
 "cells": [
  {
   "cell_type": "markdown",
   "metadata": {},
   "source": [
    "# Day 01\n",
    "# Instructor Turn - 01- Requests Demo  - 👩‍🏫🧑‍🏫"
   ]
  },
  {
   "cell_type": "code",
   "execution_count": null,
   "metadata": {},
   "outputs": [],
   "source": [
    "# Dependencies\n",
    "import requests\n",
    "import json"
   ]
  },
  {
   "cell_type": "code",
   "execution_count": null,
   "metadata": {},
   "outputs": [],
   "source": [
    "# URL for GET requests to retrieve vehicle data\n",
    "url = \"https://api.spacexdata.com/v2/launchpads\""
   ]
  },
  {
   "cell_type": "code",
   "execution_count": null,
   "metadata": {},
   "outputs": [],
   "source": [
    "# Print the response object to the console\n",
    "print(requests.get(url))"
   ]
  },
  {
   "cell_type": "code",
   "execution_count": null,
   "metadata": {},
   "outputs": [],
   "source": [
    "# Retrieving data and converting it into JSON\n",
    "print(requests.get(url).json())"
   ]
  },
  {
   "cell_type": "code",
   "execution_count": null,
   "metadata": {},
   "outputs": [],
   "source": [
    "# Pretty Print the output of the JSON\n",
    "response = requests.get(url).json()\n",
    "print(json.dumps(response, indent=4, sort_keys=True))"
   ]
  },
  {
   "cell_type": "markdown",
   "metadata": {},
   "source": [
    "# Instructor Turn - 02 - NYT API - 👩‍🏫🧑‍🏫"
   ]
  },
  {
   "cell_type": "code",
   "execution_count": null,
   "metadata": {},
   "outputs": [],
   "source": [
    "# Dependencies\n",
    "import requests\n",
    "from pprint import pprint\n",
    "from config import nytapi_key\n",
    "\n",
    "url = \"https://api.nytimes.com/svc/search/v2/articlesearch.json?\""
   ]
  },
  {
   "cell_type": "code",
   "execution_count": null,
   "metadata": {},
   "outputs": [],
   "source": [
    "# Search for articles that mention granola\n",
    "query = \"granola\""
   ]
  },
  {
   "cell_type": "code",
   "execution_count": null,
   "metadata": {},
   "outputs": [],
   "source": [
    "# Build query URL\n",
    "query_url = url + \"api-key=\" + nytapi_key + \"&q=\" + query\n",
    "# Option 2 fstrings \n",
    "query_url = f'{url}api-key={nytapi_key}&q={query}'"
   ]
  },
  {
   "cell_type": "code",
   "execution_count": null,
   "metadata": {},
   "outputs": [],
   "source": [
    "# Request articles\n",
    "articles = requests.get(query_url).json()\n",
    "print(articles)\n",
    "# The \"response\" property in articles contains the actual articles\n",
    "# list comprehension.\n",
    "articles_list = [article for article in articles[\"response\"][\"docs\"]]\n",
    "pprint(articles_list)"
   ]
  },
  {
   "cell_type": "code",
   "execution_count": null,
   "metadata": {},
   "outputs": [],
   "source": [
    "# Print the web_url of each stored article\n",
    "print(\"Your Reading List\")\n",
    "for article in articles_list:\n",
    "    print(article[\"web_url\"])"
   ]
  },
  {
   "cell_type": "markdown",
   "metadata": {},
   "source": [
    "# Student Turn - 03 - Retrieve Articles - 👩‍🎓👨‍🎓"
   ]
  },
  {
   "cell_type": "markdown",
   "metadata": {},
   "source": [
    "# Instructions\n",
    "\n",
    "* Save the NYT API endpoint to a variable. Make sure you include the right query parameter to retrieve JSON data!\n",
    "\n",
    "* Register for and save your API Key to a variable.\n",
    "\n",
    "* Decide on a search term, and save it to a variable.\n",
    "\n",
    "* Limit your search to articles published within a range of dates—for example, only articles published in 2014. _Hint_: Read the documentation on `end_date`.\n",
    "\n",
    "* Build your query URL, and save it to a variable.\n",
    "\n",
    "* Retrieve a response from the NYT API with a GET request.\n",
    "\n",
    "* Take a look at the documentation. How do you get a hold of the articles in the response?\n",
    "\n",
    "* Traverse through the returned JSON to retrieve the list of articles and store it in a variable.\n",
    "\n",
    "* Print a `snippet` from each article and separate using dashes (`-`).\n",
    "\n",
    "* As a bonus, try to figure out how we could get 30 results. _Hint_: Look up the `page` query parameter. If you get a message saying you've exceeded your rate limit, don't fret—you've solved the problem.\n",
    "\n",
    "* **Warning:** Be sure not to print out any of the query URLs. The query URLs will include your API key and if pushed to a public repository, it becomes a security risk for you as someone could steal and use your key. \n",
    "\n",
    "- - -"
   ]
  },
  {
   "cell_type": "code",
   "execution_count": null,
   "metadata": {},
   "outputs": [],
   "source": [
    "# Dependencies\n",
    "import requests\n",
    "from config import nytapi_key\n",
    "import time\n",
    "\n",
    "url = \"https://api.nytimes.com/svc/search/v2/articlesearch.json?\"\n",
    "\n",
    "# Store a search term\n",
    "query = \"coronavirus\"\n",
    "\n",
    "# Search for articles published between a begin and end date\n"
   ]
  },
  {
   "cell_type": "code",
   "execution_count": null,
   "metadata": {},
   "outputs": [],
   "source": [
    "# Retrieve articles\n"
   ]
  },
  {
   "cell_type": "code",
   "execution_count": null,
   "metadata": {},
   "outputs": [],
   "source": [
    "# BONUS: How would we get 30 results? \n",
    "# HINT: Look up the page query param\n",
    "\n",
    "# Empty list for articles\n",
    "\n",
    "\n",
    "# loop through pages 0-2\n",
    "\n",
    "    \n",
    "    # Add a one second interval between queries to stay within API query limits\n",
    "   \n",
    "    # loop through the response and append each article to the list\n",
    "    "
   ]
  },
  {
   "cell_type": "markdown",
   "metadata": {},
   "source": [
    "<details>\n",
    "    <summary><strong>Activity 03 Solution ✅</strong></summary>\n",
    "    \n",
    "```python\n",
    "\n",
    "# Dependencies\n",
    "import requests\n",
    "from config import nytapi_key\n",
    "import time\n",
    "\n",
    "url = \"https://api.nytimes.com/svc/search/v2/articlesearch.json?\"\n",
    "\n",
    "# Store a search term\n",
    "query = \"coronavirus\"\n",
    "\n",
    "# Search for articles published between a begin and end date\n",
    "begin_date = \"20200101\"\n",
    "end_date = \"20200130\"\n",
    "\n",
    "query_url = f\"{url}api-key={nytapi_key}&q={query}&begin_date={begin_date}&end_date={end_date}\"\n",
    "\n",
    "# Retrieve articles\n",
    "articles = requests.get(query_url).json()\n",
    "articles_list = articles[\"response\"][\"docs\"]\n",
    "\n",
    "for article in articles_list:\n",
    "    print(f'A snippet from the article: {article[\"snippet\"]}')\n",
    "    print('---------------------------')\n",
    "\n",
    "# Print the web_url of each stored article\n",
    "print(\"Your Reading List\")\n",
    "for article in articles_list:\n",
    "    print(article[\"web_url\"])\n",
    "\n",
    "# BONUS: How would we get 30 results? \n",
    "# HINT: Look up the page query param\n",
    "\n",
    "# Empty list for articles\n",
    "articles_list = []\n",
    "\n",
    "# loop through pages 0-2\n",
    "for page in range(0, 3):\n",
    "    query_url = f\"{url}api-key={nytapi_key}&q={query}&begin_date={begin_date}&end_date={end_date}\"\n",
    "    # create query with page number\n",
    "    query_url = f\"{query_url}&page={str(page)}\"\n",
    "    articles = requests.get(query_url).json()\n",
    "    \n",
    "    # Add a one second interval between queries to stay within API query limits\n",
    "    time.sleep(1)\n",
    "    # loop through the response and append each article to the list\n",
    "    for article in articles[\"response\"][\"docs\"]:\n",
    "        articles_list.append(article)\n",
    "\n",
    "for article in articles_list:\n",
    "    print(article['snippet'])\n",
    "    print('---------------------------')\n",
    "\n",
    "\n",
    "\n",
    "```\n",
    "</details>"
   ]
  },
  {
   "cell_type": "markdown",
   "metadata": {},
   "source": [
    "# Instructor Turn -  04 - JSON Traversal Review - 👩‍🏫🧑‍🏫"
   ]
  },
  {
   "cell_type": "code",
   "execution_count": null,
   "metadata": {},
   "outputs": [],
   "source": [
    "# Dependencies\n",
    "import json\n",
    "import os\n",
    "\n",
    "# Load JSON\n",
    "filepath = os.path.join(\".\", \"Resources\", \"youtube_response.json\")\n",
    "with open(filepath) as jsonfile:\n",
    "    video_json = json.load(jsonfile)"
   ]
  },
  {
   "cell_type": "code",
   "execution_count": null,
   "metadata": {},
   "outputs": [],
   "source": [
    "# Isolate \"data items\" for easy reading\n",
    "data = video_json[\"data\"]\n",
    "data_items = data[\"items\"]\n",
    "\n",
    "# Retrieve the video's title\n",
    "title = data_items[0][\"title\"]\n",
    "print(\"Title: \", title)"
   ]
  },
  {
   "cell_type": "code",
   "execution_count": null,
   "metadata": {},
   "outputs": [],
   "source": [
    "# Retrieve the video's rating\n",
    "rating = data_items[0][\"rating\"]\n",
    "print(\"Rating:\", rating)"
   ]
  },
  {
   "cell_type": "code",
   "execution_count": null,
   "metadata": {},
   "outputs": [],
   "source": [
    "# Retrieve the link to the video's default thumbnail\n",
    "default_thumbnail = data_items[0][\"thumbnail\"][\"default\"]\n",
    "print(\"Thumbnail: \", default_thumbnail)"
   ]
  },
  {
   "cell_type": "code",
   "execution_count": null,
   "metadata": {},
   "outputs": [],
   "source": [
    "# Retrieve the number of views this video has\n",
    "view_count = data_items[0][\"viewCount\"]\n",
    "print(f\"View count: {view_count}\")"
   ]
  },
  {
   "cell_type": "markdown",
   "metadata": {},
   "source": [
    "# Instructor Turn - 05 - Exception Handling - 👩‍🏫🧑‍🏫"
   ]
  },
  {
   "cell_type": "code",
   "execution_count": null,
   "metadata": {},
   "outputs": [],
   "source": [
    "students = {\n",
    "    # Name  : Age\n",
    "    \"James\": 27,\n",
    "    \"Sarah\": 19,\n",
    "    \"Jocelyn\": 28\n",
    "}\n",
    "\n",
    "print(students[\"Jezebel\"])\n",
    "\n",
    "print(\"This line will never print.\")"
   ]
  },
  {
   "cell_type": "code",
   "execution_count": null,
   "metadata": {},
   "outputs": [],
   "source": [
    "students = {\n",
    "    # Name  : Age\n",
    "    \"James\": 27,\n",
    "    \"Sarah\": 19,\n",
    "    \"Jocelyn\": 28\n",
    "}\n",
    "\n",
    "# Try to access key that doesn't exist\n",
    "try:\n",
    "    students[\"Jezebel\"]\n",
    "except KeyError:\n",
    "    print(\"Oops, that key doesn't exist.\")\n",
    "\n",
    "# \"Catching\" the error lets the rest of our code execute\n",
    "print(\"...But the program doesn't die early!\")"
   ]
  },
  {
   "cell_type": "markdown",
   "metadata": {},
   "source": [
    "# Student Turn - 06 -  API Exceptions - 👩‍🎓👨‍🎓\n",
    "\n",
    "\n",
    "Not every call placed to an API will return a result. In this activity, you will use try/except to handle errors from API calls.\n",
    "\n",
    "### Instructions\n",
    "\n",
    "* Loop through the characters in the list and send a request to the Star Wars API.\n",
    "\n",
    "* Create a try clause and an except clause. In the try clause, append the height, mass and character that is available in the Star Wars API. If the character is not available in the Star Wars API, use the except clause to print a message and `pass`.\n",
    "\n",
    "* Create a DataFrame from the results.\n",
    "\n",
    "* Drop any rows with null values to remove characters not in the Star Wars universe.\n",
    "\n",
    "---"
   ]
  },
  {
   "cell_type": "code",
   "execution_count": null,
   "metadata": {},
   "outputs": [],
   "source": [
    "import json\n",
    "import requests\n",
    "import pandas as pd"
   ]
  },
  {
   "cell_type": "code",
   "execution_count": null,
   "metadata": {},
   "outputs": [],
   "source": [
    "# List of character\n",
    "search_characters = ['R2-D2', 'Darth Vader', 'Godzilla', 'Luke Skywalker', 'Frodo', \\\n",
    "              'Boba Fett', 'Iron Man', 'Jon Snow', 'Han Solo']\n",
    "\n",
    "# Set url for API\n",
    "url = 'https://swapi.dev/api/people/?search='\n",
    "\n",
    "# Set empty lists to hold character's height and mass\n",
    "height = []\n",
    "mass = []\n",
    "\n",
    "# Loop through each character and make API request\n",
    "\n",
    "    # Create search query, make request and store in json\n",
    "    \n",
    "    \n",
    "    # Try to grab the height and mass of characters if they are available in the Star Wars API\n",
    "    \n",
    "        \n",
    "    # Handle exceptions for a character that is not available in the Star Wars API"
   ]
  },
  {
   "cell_type": "code",
   "execution_count": null,
   "metadata": {},
   "outputs": [],
   "source": [
    "# Create DataFrame\n"
   ]
  },
  {
   "cell_type": "markdown",
   "metadata": {},
   "source": [
    "<details>\n",
    "    <summary><strong>Activity 06 Solution ✅</strong></summary>\n",
    "    \n",
    "```python\n",
    "import json\n",
    "import requests\n",
    "import pandas as pd\n",
    "\n",
    "search_characters = ['R2-D2', 'Darth Vader', 'Godzilla', 'Luke Skywalker', 'Frodo', \\\n",
    "              'Boba Fett', 'Iron Man', 'Jon Snow', 'Han Solo']\n",
    "\n",
    "# Set url for API\n",
    "url = 'https://swapi.dev/api/people/?search='\n",
    "\n",
    "# Set empty lists to hold characters height and mass\n",
    "height = []\n",
    "mass = []\n",
    "starwars_characters = []\n",
    "\n",
    "# Loop through each character\n",
    "for character in search_characters:\n",
    "    \n",
    "    # Create search query, make request and store in json\n",
    "    query = url + character\n",
    "    response = requests.get(query)\n",
    "    response_json = response.json()\n",
    "    \n",
    "    # Try to grab the height and mass of characters if they are available in the Star Wars API\n",
    "    try:\n",
    "        height.append(response_json['results'][0]['height'])\n",
    "        mass.append(response_json['results'][0]['mass'])\n",
    "        starwars_characters.append(character)\n",
    "        print(f\"{character} found! Appending stats\")\n",
    "        \n",
    "    # Handle exceptions for a character that is not available in the Star Wars API\n",
    "    except:\n",
    "        # Append null values\n",
    "        print(\"Character not found\")\n",
    "        pass\n",
    "\n",
    "# Create DataFrame\n",
    "character_height = pd.DataFrame({\n",
    "    'character': starwars_characters,\n",
    "    'height': height,\n",
    "    'mass': mass\n",
    "})\n",
    "character_height\n",
    "\n",
    "\n",
    "\n",
    "\n",
    "```\n",
    "</details>"
   ]
  },
  {
   "cell_type": "markdown",
   "metadata": {},
   "source": [
    "# Instructor Turn - 07 - Open Weather Request  - 👩‍🏫🧑‍🏫"
   ]
  },
  {
   "cell_type": "code",
   "execution_count": null,
   "metadata": {},
   "outputs": [],
   "source": [
    "# Dependencies\n",
    "import json\n",
    "import requests\n",
    "from config import open_weather_api_key"
   ]
  },
  {
   "cell_type": "code",
   "execution_count": null,
   "metadata": {},
   "outputs": [],
   "source": [
    "# Save config information\n",
    "url = \"http://api.openweathermap.org/data/2.5/weather?\"\n",
    "city = \"London\"\n",
    "\n",
    "# Build query URL\n",
    "query_url = url + \"appid=\" + open_weather_api_key + \"&q=\" + city"
   ]
  },
  {
   "cell_type": "code",
   "execution_count": null,
   "metadata": {},
   "outputs": [],
   "source": [
    "# Get weather data\n",
    "weather_response = requests.get(query_url)\n",
    "weather_json = weather_response.json()\n",
    "\n",
    "# Get the temperature from the response\n",
    "print(f\"The weather API responded with: {weather_json}.\")"
   ]
  },
  {
   "cell_type": "markdown",
   "metadata": {},
   "source": [
    "# Student Turn - 08 - Burundi - 👩‍🎓👨‍🎓"
   ]
  },
  {
   "cell_type": "markdown",
   "metadata": {},
   "source": [
    "# Weather in Bujumbura\n",
    "\n",
    "This activity gives students practice with making API calls and handling responses.\n",
    "\n",
    "## Instructions\n",
    "\n",
    "* Save all of your \"config\" information—i.e., your API key; the base URL; etc.—before moving on.\n",
    "\n",
    "* Build your query URL. Check the documentation to figure out how to request temperatures in Celsius.\n",
    "\n",
    "* Make your request, and save the API response.\n",
    "\n",
    "* Retrieve the current temperature in Bujumbura from the JSON response.\n",
    "\n",
    "* Print the temperature to the console.\n",
    "\n",
    "## Bonus\n",
    "\n",
    "* Augment your code to report the temperature in both Fahrenheit _and_ Celsius.\n",
    "\n",
    "### Note: Don't forget to change the API key in config.py!\n"
   ]
  },
  {
   "cell_type": "code",
   "execution_count": null,
   "metadata": {},
   "outputs": [],
   "source": [
    "# Dependencies\n",
    "import requests\n",
    "from config import open_weather_api_key\n",
    "\n",
    "# Save config information.\n",
    "url = \"http://api.openweathermap.org/data/2.5/weather?\"\n",
    "city = \"Bujumbura\"\n",
    "units = \"metric\""
   ]
  },
  {
   "cell_type": "code",
   "execution_count": null,
   "metadata": {},
   "outputs": [],
   "source": [
    "# Build query URL and request your results in Celsius\n",
    "\n",
    "\n",
    "# Get weather data\n"
   ]
  },
  {
   "cell_type": "code",
   "execution_count": null,
   "metadata": {},
   "outputs": [],
   "source": [
    "# Get temperature from JSON response\n"
   ]
  },
  {
   "cell_type": "code",
   "execution_count": null,
   "metadata": {},
   "outputs": [],
   "source": [
    "# Report temperature\n"
   ]
  },
  {
   "cell_type": "code",
   "execution_count": null,
   "metadata": {},
   "outputs": [],
   "source": [
    "# BONUS\n",
    "\n",
    "# use list of units\n",
    "\n",
    "\n",
    "# set up list to hold two different temperatures\n",
    "\n",
    "\n",
    "# loop throught the list of units and append them to temperatures list\n",
    "\n",
    "    # Build query URL based on current element in units\n",
    "    \n",
    "\n",
    "    # Get weather data\n",
    "    \n",
    "\n",
    "    # Get temperature from JSON response\n",
    "\n",
    "# Report temperatures by accessing each element in the list\n"
   ]
  },
  {
   "cell_type": "code",
   "execution_count": null,
   "metadata": {},
   "outputs": [],
   "source": []
  },
  {
   "cell_type": "markdown",
   "metadata": {},
   "source": [
    "<details>\n",
    "    <summary><strong>Activity 08 Solution ✅</strong></summary>\n",
    "    \n",
    "```python\n",
    "# Dependencies\n",
    "import requests\n",
    "from config import open_weather_api_key\n",
    "\n",
    "\n",
    "# Save config information.\n",
    "url = \"http://api.openweathermap.org/data/2.5/weather?\"\n",
    "city = \"Bujumbura\"\n",
    "units = \"metric\"\n",
    "\n",
    "# Build query URL and request your results in Celsius\n",
    "query_url = f\"{url}appid={open_weather_api_key}&q={city}&units={units}\"\n",
    "\n",
    "# Get weather data\n",
    "weather_response = requests.get(query_url)\n",
    "weather_json = weather_response.json()\n",
    "\n",
    "# Get temperature from JSON response\n",
    "temperature = weather_json[\"main\"][\"temp\"]\n",
    "\n",
    "# Report temperature\n",
    "print(f\"The temperature in Bujumbura is {temperature} C.\")\n",
    "\n",
    "# BONUS\n",
    "\n",
    "# use list of units\n",
    "units = [\"metric\", \"imperial\"]\n",
    "\n",
    "# set up list to hold two different temperatures\n",
    "temperatures = []\n",
    "\n",
    "# loop throught the list of units and append them to temperatures list\n",
    "for unit in units:\n",
    "    # Build query URL based on current element in units\n",
    "    query_url = url + \"appid=\" + open_weather_api_key + \"&q=\" + city + \"&units=\" + unit\n",
    "\n",
    "    # Get weather data\n",
    "    weather_response = requests.get(query_url)\n",
    "    weather_json = weather_response.json()\n",
    "\n",
    "    # Get temperature from JSON response\n",
    "    temperature = weather_json[\"main\"][\"temp\"]\n",
    "\n",
    "    temperatures.append(temperature)\n",
    "\n",
    "# Report temperatures by accessing each element in the list\n",
    "print(\n",
    "    f\"The temperature in Bujumbura is {temperatures[0]}C or {temperatures[1]}F.\")\n",
    "\n",
    "\n",
    "\n",
    "\n",
    "\n",
    "\n",
    "```\n",
    "</details>"
   ]
  }
 ],
 "metadata": {
  "kernelspec": {
   "display_name": "Python 3",
   "language": "python",
   "name": "python3"
  },
  "language_info": {
   "codemirror_mode": {
    "name": "ipython",
    "version": 3
   },
   "file_extension": ".py",
   "mimetype": "text/x-python",
   "name": "python",
   "nbconvert_exporter": "python",
   "pygments_lexer": "ipython3",
   "version": "3.7.6"
  }
 },
 "nbformat": 4,
 "nbformat_minor": 4
}
