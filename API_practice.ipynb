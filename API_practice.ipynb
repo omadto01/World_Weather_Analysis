{
 "cells": [
  {
   "cell_type": "code",
   "execution_count": 1,
   "id": "848a40b6",
   "metadata": {},
   "outputs": [],
   "source": [
    "# Create a practice set of random latitude and longitude combinations.\n",
    "x = [25.12903645, 25.92017388, 26.62509167, -59.98969384, 37.30571269]\n",
    "y = [-67.59741259, 11.09532135, 74.84233102, -76.89176677, -61.13376282]\n",
    "coordinates = zip(x, y)"
   ]
  },
  {
   "cell_type": "code",
   "execution_count": 2,
   "id": "a6743319",
   "metadata": {},
   "outputs": [
    {
     "name": "stdout",
     "output_type": "stream",
     "text": [
      "25.12903645 -67.59741259\n",
      "25.92017388 11.09532135\n",
      "26.62509167 74.84233102\n",
      "-59.98969384 -76.89176677\n",
      "37.30571269 -61.13376282\n"
     ]
    }
   ],
   "source": [
    "# Use the tuple() function to display the latitude and longitude combinations.\n",
    "for coordinate in coordinates:\n",
    "    print(coordinate[0], coordinate[1])"
   ]
  },
  {
   "cell_type": "code",
   "execution_count": 3,
   "id": "a8e27c6b",
   "metadata": {},
   "outputs": [
    {
     "data": {
      "text/plain": [
       "<zip at 0x20b3f7d7580>"
      ]
     },
     "execution_count": 3,
     "metadata": {},
     "output_type": "execute_result"
    }
   ],
   "source": [
    "coordinates"
   ]
  },
  {
   "cell_type": "code",
   "execution_count": 4,
   "id": "41abdc50",
   "metadata": {},
   "outputs": [
    {
     "name": "stdout",
     "output_type": "stream",
     "text": [
      "Requirement already satisfied: citipy in c:\\users\\omaro\\anaconda3\\lib\\site-packages (0.0.5)\n",
      "Requirement already satisfied: kdtree>=0.12 in c:\\users\\omaro\\anaconda3\\lib\\site-packages (from citipy) (0.16)\n"
     ]
    }
   ],
   "source": [
    "!pip install citipy"
   ]
  },
  {
   "cell_type": "code",
   "execution_count": 5,
   "id": "d345cb85",
   "metadata": {},
   "outputs": [],
   "source": [
    "# Use the citipy module to determine city based on latitude and longitude.\n",
    "from citipy import citipy"
   ]
  },
  {
   "cell_type": "code",
   "execution_count": 6,
   "id": "623d811e",
   "metadata": {},
   "outputs": [],
   "source": [
    "# Use the tuple() function to display the latitude and longitude combinations.\n",
    "for coordinate in coordinates:\n",
    "    print(citipy.nearest_city(coordinate[0], coordinate[1]).city_name,\n",
    "          citipy.nearest_city(coordinate[0], coordinate[1]).country_code)"
   ]
  },
  {
   "cell_type": "code",
   "execution_count": 7,
   "id": "c1ec523e",
   "metadata": {},
   "outputs": [],
   "source": [
    "# Import the requests library.\n",
    "import requests\n",
    "\n",
    "# Import the API key.\n",
    "from config import weather_api_key"
   ]
  },
  {
   "cell_type": "code",
   "execution_count": 8,
   "id": "dd7da455",
   "metadata": {},
   "outputs": [
    {
     "name": "stdout",
     "output_type": "stream",
     "text": [
      "Available objects for config:\n",
      "     AliasManager\n",
      "     DisplayFormatter\n",
      "     HistoryManager\n",
      "     IPCompleter\n",
      "     IPKernelApp\n",
      "     LoggingMagics\n",
      "     MagicsManager\n",
      "     OSMagics\n",
      "     PrefilterManager\n",
      "     ScriptMagics\n",
      "     StoreMagics\n",
      "     ZMQInteractiveShell\n"
     ]
    }
   ],
   "source": [
    "config"
   ]
  },
  {
   "cell_type": "code",
   "execution_count": 9,
   "id": "2914aa79",
   "metadata": {},
   "outputs": [
    {
     "name": "stdout",
     "output_type": "stream",
     "text": [
      "http://api.openweathermap.org/data/2.5/weather?units=Imperial&APPID=5c14851ac102396180facd18c7238146\n"
     ]
    }
   ],
   "source": [
    "# Starting URL for Weather Map API Call.\n",
    "url = \"http://api.openweathermap.org/data/2.5/weather?units=Imperial&APPID=\" + weather_api_key\n",
    "print(url)"
   ]
  },
  {
   "cell_type": "code",
   "execution_count": 10,
   "id": "2657ed77",
   "metadata": {},
   "outputs": [
    {
     "name": "stdout",
     "output_type": "stream",
     "text": [
      "http://api.openweathermap.org/data/2.5/weather?units=Imperial&APPID=5c14851ac102396180facd18c7238146&q=Boston\n"
     ]
    }
   ],
   "source": [
    "# Create an endpoint URL for a city.\n",
    "city_url = url + \"&q=\" + \"Boston\"\n",
    "print(city_url)"
   ]
  },
  {
   "cell_type": "code",
   "execution_count": 11,
   "id": "a2a99c33",
   "metadata": {},
   "outputs": [
    {
     "data": {
      "text/plain": [
       "<Response [200]>"
      ]
     },
     "execution_count": 11,
     "metadata": {},
     "output_type": "execute_result"
    }
   ],
   "source": [
    "# Make a 'Get' request for the city weather.\n",
    "city_weather = requests.get(city_url)\n",
    "city_weather"
   ]
  },
  {
   "cell_type": "code",
   "execution_count": 12,
   "id": "ac2a7593",
   "metadata": {},
   "outputs": [
    {
     "data": {
      "text/plain": [
       "200"
      ]
     },
     "execution_count": 12,
     "metadata": {},
     "output_type": "execute_result"
    }
   ],
   "source": [
    "city_weather.status_code"
   ]
  },
  {
   "cell_type": "code",
   "execution_count": 13,
   "id": "2c7197c8",
   "metadata": {},
   "outputs": [
    {
     "data": {
      "text/plain": [
       "<Response [404]>"
      ]
     },
     "execution_count": 13,
     "metadata": {},
     "output_type": "execute_result"
    }
   ],
   "source": [
    "# Create an endpoint URL for a city.\n",
    "city_url = url + \"&q=\" + \"Bston\"\n",
    "city_weather = requests.get(city_url)\n",
    "city_weather"
   ]
  },
  {
   "cell_type": "code",
   "execution_count": 14,
   "id": "9e28c153",
   "metadata": {},
   "outputs": [
    {
     "data": {
      "text/plain": [
       "<Response [200]>"
      ]
     },
     "execution_count": 14,
     "metadata": {},
     "output_type": "execute_result"
    }
   ],
   "source": [
    "# Create an endpoint URL for a city.\n",
    "city_url = url + \"&q=\" + \"Boston\"\n",
    "city_weather = requests.get(city_url)\n",
    "city_weather"
   ]
  },
  {
   "cell_type": "code",
   "execution_count": 15,
   "id": "92a0764d",
   "metadata": {},
   "outputs": [
    {
     "data": {
      "text/plain": [
       "'{\"coord\":{\"lon\":-71.0598,\"lat\":42.3584},\"weather\":[{\"id\":801,\"main\":\"Clouds\",\"description\":\"few clouds\",\"icon\":\"02n\"}],\"base\":\"stations\",\"main\":{\"temp\":44.47,\"feels_like\":40.03,\"temp_min\":40.6,\"temp_max\":47.61,\"pressure\":1019,\"humidity\":48},\"visibility\":10000,\"wind\":{\"speed\":8.01,\"deg\":295,\"gust\":18.99},\"clouds\":{\"all\":20},\"dt\":1639445241,\"sys\":{\"type\":2,\"id\":2013408,\"country\":\"US\",\"sunrise\":1639397116,\"sunset\":1639429923},\"timezone\":-18000,\"id\":4930956,\"name\":\"Boston\",\"cod\":200}'"
      ]
     },
     "execution_count": 15,
     "metadata": {},
     "output_type": "execute_result"
    }
   ],
   "source": [
    "# Get the text of the 'Get' request.\n",
    "city_weather.text"
   ]
  },
  {
   "cell_type": "code",
   "execution_count": 16,
   "id": "a05e9727",
   "metadata": {},
   "outputs": [
    {
     "data": {
      "text/plain": [
       "{'coord': {'lon': -71.0598, 'lat': 42.3584},\n",
       " 'weather': [{'id': 801,\n",
       "   'main': 'Clouds',\n",
       "   'description': 'few clouds',\n",
       "   'icon': '02n'}],\n",
       " 'base': 'stations',\n",
       " 'main': {'temp': 44.47,\n",
       "  'feels_like': 40.03,\n",
       "  'temp_min': 40.6,\n",
       "  'temp_max': 47.61,\n",
       "  'pressure': 1019,\n",
       "  'humidity': 48},\n",
       " 'visibility': 10000,\n",
       " 'wind': {'speed': 8.01, 'deg': 295, 'gust': 18.99},\n",
       " 'clouds': {'all': 20},\n",
       " 'dt': 1639445241,\n",
       " 'sys': {'type': 2,\n",
       "  'id': 2013408,\n",
       "  'country': 'US',\n",
       "  'sunrise': 1639397116,\n",
       "  'sunset': 1639429923},\n",
       " 'timezone': -18000,\n",
       " 'id': 4930956,\n",
       " 'name': 'Boston',\n",
       " 'cod': 200}"
      ]
     },
     "execution_count": 16,
     "metadata": {},
     "output_type": "execute_result"
    }
   ],
   "source": [
    "# Get the JSON text of the 'Get' request.\n",
    "city_weather.json()"
   ]
  },
  {
   "cell_type": "code",
   "execution_count": 17,
   "id": "c2b864fb",
   "metadata": {},
   "outputs": [
    {
     "name": "stdout",
     "output_type": "stream",
     "text": [
      "City Weather found.\n"
     ]
    }
   ],
   "source": [
    "# Create an endpoint URL for a city.\n",
    "city_url = url + \"&q=\" + \"Boston\"\n",
    "city_weather = requests.get(city_url)\n",
    "if city_weather.status_code == 200:\n",
    "    print(f\"City Weather found.\")\n",
    "else:\n",
    "    print(f\"City weather not found.\")"
   ]
  },
  {
   "cell_type": "code",
   "execution_count": 18,
   "id": "9c9eecba",
   "metadata": {},
   "outputs": [
    {
     "name": "stdout",
     "output_type": "stream",
     "text": [
      "City weather not found.\n"
     ]
    }
   ],
   "source": [
    "# Create an endpoint URL for a city.\n",
    "city_url = url + \"&q=\" + \"Bston\"\n",
    "city_weather = requests.get(city_url)\n",
    "if city_weather.status_code == 200:\n",
    "    print(f\"City Weather found.\")\n",
    "else:\n",
    "    print(f\"City weather not found.\")"
   ]
  },
  {
   "cell_type": "code",
   "execution_count": 19,
   "id": "77b91e21",
   "metadata": {},
   "outputs": [
    {
     "name": "stdout",
     "output_type": "stream",
     "text": [
      "http://api.openweathermap.org/data/2.5/weather?units=Imperial&APPID=5c14851ac102396180facd18c7238146&q=Bston\n"
     ]
    }
   ],
   "source": [
    "print(city_url)"
   ]
  },
  {
   "cell_type": "code",
   "execution_count": 20,
   "id": "92c12a60",
   "metadata": {},
   "outputs": [
    {
     "data": {
      "text/plain": [
       "{'coord': {'lon': -71.0598, 'lat': 42.3584},\n",
       " 'weather': [{'id': 801,\n",
       "   'main': 'Clouds',\n",
       "   'description': 'few clouds',\n",
       "   'icon': '02n'}],\n",
       " 'base': 'stations',\n",
       " 'main': {'temp': 44.47,\n",
       "  'feels_like': 40.03,\n",
       "  'temp_min': 40.6,\n",
       "  'temp_max': 47.61,\n",
       "  'pressure': 1019,\n",
       "  'humidity': 48},\n",
       " 'visibility': 10000,\n",
       " 'wind': {'speed': 8.01, 'deg': 295, 'gust': 18.99},\n",
       " 'clouds': {'all': 20},\n",
       " 'dt': 1639445241,\n",
       " 'sys': {'type': 2,\n",
       "  'id': 2013408,\n",
       "  'country': 'US',\n",
       "  'sunrise': 1639397116,\n",
       "  'sunset': 1639429923},\n",
       " 'timezone': -18000,\n",
       " 'id': 4930956,\n",
       " 'name': 'Boston',\n",
       " 'cod': 200}"
      ]
     },
     "execution_count": 20,
     "metadata": {},
     "output_type": "execute_result"
    }
   ],
   "source": [
    "# Create an endpoint URL for a city.\n",
    "city_url = url + \"&q=\" + \"Boston\"\n",
    "city_weather = requests.get(city_url)\n",
    "city_weather.json()"
   ]
  },
  {
   "cell_type": "code",
   "execution_count": 21,
   "id": "ca3ce6d6",
   "metadata": {},
   "outputs": [],
   "source": [
    "# Get the JSON data.\n",
    "boston_data = city_weather.json()"
   ]
  },
  {
   "cell_type": "code",
   "execution_count": 22,
   "id": "69049d00",
   "metadata": {},
   "outputs": [
    {
     "data": {
      "text/plain": [
       "{'type': 2,\n",
       " 'id': 2013408,\n",
       " 'country': 'US',\n",
       " 'sunrise': 1639397116,\n",
       " 'sunset': 1639429923}"
      ]
     },
     "execution_count": 22,
     "metadata": {},
     "output_type": "execute_result"
    }
   ],
   "source": [
    "boston_data['sys']"
   ]
  },
  {
   "cell_type": "code",
   "execution_count": 23,
   "id": "79de51ce",
   "metadata": {},
   "outputs": [
    {
     "data": {
      "text/plain": [
       "'US'"
      ]
     },
     "execution_count": 23,
     "metadata": {},
     "output_type": "execute_result"
    }
   ],
   "source": [
    "boston_data['sys'][\"country\"]"
   ]
  },
  {
   "cell_type": "code",
   "execution_count": 24,
   "id": "67dc2300",
   "metadata": {},
   "outputs": [
    {
     "data": {
      "text/plain": [
       "1639445241"
      ]
     },
     "execution_count": 24,
     "metadata": {},
     "output_type": "execute_result"
    }
   ],
   "source": [
    "boston_data[\"dt\"]"
   ]
  },
  {
   "cell_type": "code",
   "execution_count": 25,
   "id": "61c8ee91",
   "metadata": {},
   "outputs": [
    {
     "name": "stdout",
     "output_type": "stream",
     "text": [
      "42.3584 -71.0598 47.61 48 20 8.01\n"
     ]
    }
   ],
   "source": [
    "lat = boston_data[\"coord\"][\"lat\"]\n",
    "lng = boston_data[\"coord\"][\"lon\"]\n",
    "max_temp = boston_data[\"main\"][\"temp_max\"]\n",
    "humidity = boston_data[\"main\"][\"humidity\"]\n",
    "clouds = boston_data[\"clouds\"][\"all\"]\n",
    "wind = boston_data[\"wind\"][\"speed\"]\n",
    "print(lat, lng, max_temp, humidity, clouds, wind)"
   ]
  },
  {
   "cell_type": "code",
   "execution_count": 26,
   "id": "0aab2479",
   "metadata": {},
   "outputs": [
    {
     "data": {
      "text/plain": [
       "datetime.datetime(2021, 12, 14, 1, 27, 21)"
      ]
     },
     "execution_count": 26,
     "metadata": {},
     "output_type": "execute_result"
    }
   ],
   "source": [
    "# Import the datetime module from the datetime library.\n",
    "from datetime import datetime\n",
    "# Get the date from the JSON file.\n",
    "date = boston_data[\"dt\"]\n",
    "# Convert the UTC date to a date format with year, month, day, hours, minutes, and seconds.\n",
    "datetime.utcfromtimestamp(date)"
   ]
  },
  {
   "cell_type": "code",
   "execution_count": 27,
   "id": "c3757814",
   "metadata": {},
   "outputs": [
    {
     "data": {
      "text/plain": [
       "'2021-12-14 01:27:21'"
      ]
     },
     "execution_count": 27,
     "metadata": {},
     "output_type": "execute_result"
    }
   ],
   "source": [
    "# Import the datetime module from the datetime library.\n",
    "from datetime import datetime\n",
    "# Get the date from the JSON file.\n",
    "date = boston_data[\"dt\"]\n",
    "# Convert the UTC date to a date format with year, month, day, hours, minutes, and seconds.\n",
    "datetime.utcfromtimestamp(date).strftime('%Y-%m-%d %H:%M:%S')"
   ]
  },
  {
   "cell_type": "markdown",
   "id": "fb079692",
   "metadata": {},
   "source": [
    "# 6.2.6   Get the City Weather Data"
   ]
  },
  {
   "cell_type": "code",
   "execution_count": 28,
   "id": "4a5d9a61",
   "metadata": {},
   "outputs": [],
   "source": [
    "# Import the dependencies.\n",
    "import pandas as pd\n",
    "import matplotlib.pyplot as plt\n",
    "import numpy as np\n",
    "\n",
    "# Import the time library and the datetime module from the datetime library \n",
    "import time\n",
    "from datetime import datetime\n",
    "\n",
    "# Import the requests library.\n",
    "import requests\n",
    "\n",
    "# Import the API key.\n",
    "from config import weather_api_key"
   ]
  },
  {
   "cell_type": "code",
   "execution_count": 29,
   "id": "a6218dbc",
   "metadata": {},
   "outputs": [],
   "source": [
    "# Use the citipy module to determine city based on latitude and longitude.\n",
    "from citipy import citipy"
   ]
  },
  {
   "cell_type": "code",
   "execution_count": 30,
   "id": "0a41604a",
   "metadata": {},
   "outputs": [],
   "source": [
    "# Use the tuple() function to display the latitude and longitude combinations.\n",
    "for coordinate in coordinates:\n",
    "    print(citipy.nearest_city(coordinate[0], coordinate[1]).city_name,\n",
    "          citipy.nearest_city(coordinate[0], coordinate[1]).country_code)"
   ]
  },
  {
   "cell_type": "code",
   "execution_count": 31,
   "id": "04bf3db1",
   "metadata": {},
   "outputs": [
    {
     "name": "stdout",
     "output_type": "stream",
     "text": [
      "http://api.openweathermap.org/data/2.5/weather?units=Imperial&APPID=5c14851ac102396180facd18c7238146\n"
     ]
    }
   ],
   "source": [
    "# Starting URL for Weather Map API Call.\n",
    "url = \"http://api.openweathermap.org/data/2.5/weather?units=Imperial&APPID=\" + weather_api_key\n",
    "print(url)"
   ]
  },
  {
   "cell_type": "code",
   "execution_count": 32,
   "id": "db252124",
   "metadata": {},
   "outputs": [
    {
     "data": {
      "text/plain": [
       "<zip at 0x20b44562140>"
      ]
     },
     "execution_count": 32,
     "metadata": {},
     "output_type": "execute_result"
    }
   ],
   "source": [
    "# Create a set of random latitude and longitude combinations.\n",
    "lats = np.random.uniform(low=-90.000, high=90.000, size=1500)\n",
    "lngs = np.random.uniform(low=-180.000, high=180.000, size=1500)\n",
    "lat_lngs = zip(lats, lngs)\n",
    "lat_lngs"
   ]
  },
  {
   "cell_type": "code",
   "execution_count": 33,
   "id": "a9600df0",
   "metadata": {},
   "outputs": [],
   "source": [
    "# Add the latitudes and longitudes to a list.\n",
    "coordinates = list(lat_lngs)"
   ]
  },
  {
   "cell_type": "code",
   "execution_count": 34,
   "id": "0a2ddb68",
   "metadata": {},
   "outputs": [
    {
     "data": {
      "text/plain": [
       "609"
      ]
     },
     "execution_count": 34,
     "metadata": {},
     "output_type": "execute_result"
    }
   ],
   "source": [
    "# Create a list for holding the cities.\n",
    "cities = []\n",
    "# Identify the nearest city for each latitude and longitude combination.\n",
    "for coordinate in coordinates:\n",
    "    city = citipy.nearest_city(coordinate[0], coordinate[1]).city_name\n",
    "\n",
    "    # If the city is unique, then we will add it to the cities list.\n",
    "    if city not in cities:\n",
    "        cities.append(city)\n",
    "# Print the city count to confirm sufficient count.\n",
    "len(cities)"
   ]
  },
  {
   "cell_type": "code",
   "execution_count": 35,
   "id": "f295d781",
   "metadata": {},
   "outputs": [
    {
     "name": "stdout",
     "output_type": "stream",
     "text": [
      "Beginning Data Retrieval     \n",
      "-----------------------------\n"
     ]
    }
   ],
   "source": [
    "# Create an empty list to hold the weather data.\n",
    "city_data = []\n",
    "# Print the beginning of the logging.\n",
    "print(\"Beginning Data Retrieval     \")\n",
    "print(\"-----------------------------\")\n",
    "\n",
    "# Create counters.\n",
    "record_count = 1\n",
    "set_count = 1"
   ]
  },
  {
   "cell_type": "code",
   "execution_count": null,
   "id": "c55a8898",
   "metadata": {},
   "outputs": [
    {
     "name": "stdout",
     "output_type": "stream",
     "text": [
      "Processing Record 1 of Set 1 | norman wells\n",
      "Processing Record 2 of Set 1 | guerrero negro\n",
      "Processing Record 3 of Set 1 | qaanaaq\n",
      "Processing Record 4 of Set 1 | ushuaia\n",
      "Processing Record 5 of Set 1 | bluff\n",
      "Processing Record 6 of Set 1 | cape town\n",
      "Processing Record 7 of Set 1 | domoni\n",
      "Processing Record 8 of Set 1 | coronado\n",
      "Processing Record 9 of Set 1 | illoqqortoormiut\n",
      "Processing Record 10 of Set 1 | bethel\n",
      "Processing Record 11 of Set 1 | anloga\n",
      "Processing Record 12 of Set 1 | freeport\n",
      "Processing Record 13 of Set 1 | the valley\n",
      "Processing Record 14 of Set 1 | nemuro\n",
      "Processing Record 15 of Set 1 | inta\n",
      "Processing Record 16 of Set 1 | bubaque\n",
      "Processing Record 17 of Set 1 | aguie\n",
      "Processing Record 18 of Set 1 | hilo\n",
      "Processing Record 19 of Set 1 | mys shmidta\n",
      "Processing Record 20 of Set 1 | thompson\n",
      "Processing Record 21 of Set 1 | taolanaro\n",
      "Processing Record 22 of Set 1 | attawapiskat\n",
      "Processing Record 23 of Set 1 | victoria\n",
      "Processing Record 24 of Set 1 | ponta do sol\n",
      "Processing Record 25 of Set 1 | pangody\n",
      "Processing Record 26 of Set 1 | constitucion\n",
      "Processing Record 27 of Set 1 | tuktoyaktuk\n",
      "Processing Record 28 of Set 1 | arraial do cabo\n",
      "Processing Record 29 of Set 1 | albany\n",
      "Processing Record 30 of Set 1 | rikitea\n",
      "Processing Record 31 of Set 1 | tiksi\n",
      "Processing Record 32 of Set 1 | yellowknife\n",
      "Processing Record 33 of Set 1 | hermanus\n",
      "Processing Record 34 of Set 1 | mataura\n",
      "Processing Record 35 of Set 1 | salalah\n",
      "Processing Record 36 of Set 1 | mount gambier\n",
      "Processing Record 37 of Set 1 | saskylakh\n",
      "Processing Record 38 of Set 1 | vao\n",
      "Processing Record 39 of Set 1 | avarua\n",
      "Processing Record 40 of Set 1 | mar del plata\n",
      "Processing Record 41 of Set 1 | hobart\n",
      "Processing Record 42 of Set 1 | saleaula\n",
      "Processing Record 43 of Set 1 | katsuura\n",
      "Processing Record 44 of Set 1 | mbini\n",
      "Processing Record 45 of Set 1 | blagoyevo\n",
      "Processing Record 46 of Set 1 | lebu\n",
      "Processing Record 47 of Set 1 | khatanga\n",
      "Processing Record 48 of Set 1 | punta arenas\n",
      "Processing Record 49 of Set 1 | busselton\n",
      "Processing Record 50 of Set 1 | kaitangata\n",
      "Processing Record 1 of Set 2 | rostov\n",
      "Processing Record 2 of Set 2 | atuona\n",
      "Processing Record 3 of Set 2 | espinosa\n",
      "Processing Record 4 of Set 2 | coihaique\n",
      "Processing Record 5 of Set 2 | gardan diwal\n",
      "Processing Record 6 of Set 2 | orchard homes\n",
      "Processing Record 7 of Set 2 | jamestown\n",
      "Processing Record 8 of Set 2 | fortuna\n",
      "Processing Record 9 of Set 2 | saint-philippe\n",
      "Processing Record 10 of Set 2 | sechura\n",
      "Processing Record 11 of Set 2 | upernavik\n",
      "Processing Record 12 of Set 2 | meulaboh\n",
      "Processing Record 13 of Set 2 | bengkulu\n",
      "Processing Record 14 of Set 2 | kalachinsk\n",
      "Processing Record 15 of Set 2 | port lincoln\n",
      "Processing Record 16 of Set 2 | marawi\n",
      "Processing Record 17 of Set 2 | butaritari\n",
      "Processing Record 18 of Set 2 | igarka\n",
      "Processing Record 19 of Set 2 | lagoa\n",
      "Processing Record 20 of Set 2 | sambava\n",
      "Processing Record 21 of Set 2 | nicosia\n",
      "Processing Record 22 of Set 2 | grafton\n",
      "Processing Record 23 of Set 2 | brae\n",
      "Processing Record 24 of Set 2 | san juan nepomuceno\n",
      "Processing Record 25 of Set 2 | kalmunai\n",
      "Processing Record 26 of Set 2 | esperance\n",
      "Processing Record 27 of Set 2 | barrow\n",
      "Processing Record 28 of Set 2 | bambous virieux\n",
      "Processing Record 29 of Set 2 | afmadu\n",
      "Processing Record 30 of Set 2 | puerto ayora\n",
      "Processing Record 31 of Set 2 | srednekolymsk\n",
      "Processing Record 32 of Set 2 | saldanha\n",
      "Processing Record 33 of Set 2 | olafsvik\n",
      "Processing Record 34 of Set 2 | huntingdon\n",
      "Processing Record 35 of Set 2 | chuy\n",
      "Processing Record 36 of Set 2 | jerome\n",
      "Processing Record 37 of Set 2 | obuasi\n",
      "Processing Record 38 of Set 2 | tuatapere\n",
      "Processing Record 39 of Set 2 | ribeira grande\n",
      "Processing Record 40 of Set 2 | labuhan\n",
      "Processing Record 41 of Set 2 | dzhusaly\n",
      "Processing Record 42 of Set 2 | new norfolk\n",
      "Processing Record 43 of Set 2 | beloha\n",
      "Processing Record 44 of Set 2 | tocopilla\n",
      "Processing Record 45 of Set 2 | ahipara\n",
      "Processing Record 46 of Set 2 | amazar\n",
      "Processing Record 47 of Set 2 | alice springs\n",
      "Processing Record 48 of Set 2 | wisconsin rapids\n",
      "Processing Record 49 of Set 2 | popondetta\n",
      "Processing Record 50 of Set 2 | vila franca do campo\n",
      "Processing Record 1 of Set 3 | georgetown\n",
      "Processing Record 2 of Set 3 | souillac\n",
      "Processing Record 3 of Set 3 | hasaki\n",
      "Processing Record 4 of Set 3 | kapaa\n",
      "Processing Record 5 of Set 3 | akdepe\n",
      "Processing Record 6 of Set 3 | yanam\n",
      "Processing Record 7 of Set 3 | ambilobe\n",
      "Processing Record 8 of Set 3 | cozumel\n",
      "Processing Record 9 of Set 3 | namatanai\n",
      "Processing Record 10 of Set 3 | ystad\n",
      "Processing Record 11 of Set 3 | saint pete beach\n",
      "Processing Record 12 of Set 3 | pathein\n",
      "Processing Record 13 of Set 3 | kosh-agach\n",
      "Processing Record 14 of Set 3 | port elizabeth\n",
      "Processing Record 15 of Set 3 | avera\n",
      "Processing Record 16 of Set 3 | inirida\n",
      "Processing Record 17 of Set 3 | deputatskiy\n",
      "Processing Record 18 of Set 3 | simoes\n",
      "Processing Record 19 of Set 3 | grand river south east\n",
      "Processing Record 20 of Set 3 | ust-kuyga\n",
      "Processing Record 21 of Set 3 | paraiso\n",
      "Processing Record 22 of Set 3 | nushki\n",
      "Processing Record 23 of Set 3 | east london\n",
      "Processing Record 24 of Set 3 | port alfred\n",
      "Processing Record 25 of Set 3 | hovd\n",
      "Processing Record 26 of Set 3 | coquimbo\n",
      "Processing Record 27 of Set 3 | faya\n",
      "Processing Record 28 of Set 3 | bredasdorp\n",
      "Processing Record 29 of Set 3 | along\n",
      "Processing Record 30 of Set 3 | wiwili\n",
      "Processing Record 31 of Set 3 | lompoc\n",
      "Processing Record 32 of Set 3 | vaini\n",
      "Processing Record 33 of Set 3 | madang\n",
      "Processing Record 34 of Set 3 | sunds\n",
      "Processing Record 35 of Set 3 | lafiagi\n",
      "Processing Record 36 of Set 3 | olinda\n",
      "Processing Record 37 of Set 3 | geraldton\n",
      "Processing Record 38 of Set 3 | alnashi\n",
      "Processing Record 39 of Set 3 | le port\n",
      "Processing Record 40 of Set 3 | beringovskiy\n",
      "Processing Record 41 of Set 3 | cayenne\n",
      "Processing Record 42 of Set 3 | concord\n",
      "Processing Record 43 of Set 3 | sentyabrskiy\n",
      "Processing Record 44 of Set 3 | urdzhar\n",
      "Processing Record 45 of Set 3 | zeya\n",
      "Processing Record 46 of Set 3 | chumikan\n",
      "Processing Record 47 of Set 3 | esmeraldas\n",
      "Processing Record 48 of Set 3 | ban nahin\n",
      "Processing Record 49 of Set 3 | tsihombe\n",
      "Processing Record 50 of Set 3 | bera\n",
      "Processing Record 1 of Set 4 | talcahuano\n",
      "Processing Record 2 of Set 4 | nome\n",
      "Processing Record 3 of Set 4 | haines junction\n",
      "Processing Record 4 of Set 4 | napasar\n",
      "Processing Record 5 of Set 4 | mumford\n",
      "Processing Record 6 of Set 4 | isangel\n",
      "Processing Record 7 of Set 4 | gat\n",
      "Processing Record 8 of Set 4 | ploemeur\n",
      "Processing Record 9 of Set 4 | humberto de campos\n",
      "Processing Record 10 of Set 4 | narsaq\n",
      "Processing Record 11 of Set 4 | port moresby\n",
      "Processing Record 12 of Set 4 | kawalu\n",
      "Processing Record 13 of Set 4 | hope\n",
      "Processing Record 14 of Set 4 | ucluelet\n",
      "Processing Record 15 of Set 4 | karratha\n",
      "Processing Record 16 of Set 4 | mocuba\n",
      "Processing Record 17 of Set 4 | bogorodskoye\n",
      "Processing Record 18 of Set 4 | kununurra\n",
      "Processing Record 19 of Set 4 | linchuan\n",
      "Processing Record 20 of Set 4 | hithadhoo\n",
      "Processing Record 21 of Set 4 | tumsar\n",
      "Processing Record 22 of Set 4 | san ramon\n",
      "Processing Record 23 of Set 4 | andevoranto\n",
      "Processing Record 24 of Set 4 | pangnirtung\n",
      "Processing Record 25 of Set 4 | port hedland\n",
      "Processing Record 26 of Set 4 | jablanica\n",
      "Processing Record 27 of Set 4 | vaitupu\n",
      "Processing Record 28 of Set 4 | qurayyat\n",
      "Processing Record 29 of Set 4 | tomatlan\n",
      "Processing Record 30 of Set 4 | barentsburg\n",
      "Processing Record 31 of Set 4 | saint-augustin\n",
      "Processing Record 32 of Set 4 | ambodifototra\n",
      "Processing Record 33 of Set 4 | bandundu\n",
      "Processing Record 34 of Set 4 | khani\n",
      "Processing Record 35 of Set 4 | harper\n",
      "Processing Record 36 of Set 4 | castro\n",
      "Processing Record 37 of Set 4 | prado\n",
      "Processing Record 38 of Set 4 | sepolno krajenskie\n",
      "Processing Record 39 of Set 4 | jishou\n",
      "Processing Record 40 of Set 4 | boende\n",
      "Processing Record 41 of Set 4 | pevek\n",
      "Processing Record 42 of Set 4 | tura\n",
      "Processing Record 43 of Set 4 | pavlovsk\n",
      "Processing Record 44 of Set 4 | zhigansk\n",
      "Processing Record 45 of Set 4 | boca do acre\n",
      "Processing Record 46 of Set 4 | adiake\n",
      "Processing Record 47 of Set 4 | we\n",
      "Processing Record 48 of Set 4 | talnakh\n",
      "Processing Record 49 of Set 4 | krasnoselkup\n",
      "Processing Record 50 of Set 4 | sitka\n"
     ]
    },
    {
     "name": "stdout",
     "output_type": "stream",
     "text": [
      "Processing Record 1 of Set 5 | saint george\n",
      "Processing Record 2 of Set 5 | jupiter\n",
      "Processing Record 3 of Set 5 | nanakuli\n",
      "Processing Record 4 of Set 5 | porto walter\n",
      "Processing Record 5 of Set 5 | kavieng\n",
      "Processing Record 6 of Set 5 | longyearbyen\n",
      "Processing Record 7 of Set 5 | realeza\n",
      "Processing Record 8 of Set 5 | sorong\n",
      "Processing Record 9 of Set 5 | rae bareli\n",
      "Processing Record 10 of Set 5 | craig\n",
      "Processing Record 11 of Set 5 | te anau\n",
      "Processing Record 12 of Set 5 | codrington\n",
      "Processing Record 13 of Set 5 | itoman\n",
      "Processing Record 14 of Set 5 | los algarrobos\n",
      "Processing Record 15 of Set 5 | lebanon\n",
      "Processing Record 16 of Set 5 | priyutovo\n",
      "Processing Record 17 of Set 5 | chokurdakh\n",
      "Processing Record 18 of Set 5 | eureka\n",
      "Processing Record 19 of Set 5 | airai\n",
      "Processing Record 20 of Set 5 | sebring\n",
      "Processing Record 21 of Set 5 | ostrovnoy\n",
      "Processing Record 22 of Set 5 | provideniya\n",
      "Processing Record 23 of Set 5 | sibolga\n",
      "Processing Record 24 of Set 5 | lewisporte\n",
      "Processing Record 25 of Set 5 | gorontalo\n",
      "Processing Record 26 of Set 5 | hauterive\n",
      "Processing Record 27 of Set 5 | upata\n",
      "Processing Record 28 of Set 5 | sur\n",
      "Processing Record 29 of Set 5 | fare\n",
      "Processing Record 30 of Set 5 | bongouanou\n",
      "Processing Record 31 of Set 5 | mahina\n",
      "Processing Record 32 of Set 5 | nautla\n",
      "Processing Record 33 of Set 5 | sharjah\n",
      "Processing Record 34 of Set 5 | cabo san lucas\n",
      "Processing Record 35 of Set 5 | yefira\n",
      "Processing Record 36 of Set 5 | ngukurr\n",
      "Processing Record 37 of Set 5 | torbay\n",
      "Processing Record 38 of Set 5 | roebourne\n",
      "Processing Record 39 of Set 5 | viligili\n",
      "Processing Record 40 of Set 5 | kalianget\n",
      "Processing Record 41 of Set 5 | yulara\n",
      "Processing Record 42 of Set 5 | mamallapuram\n",
      "Processing Record 43 of Set 5 | bayir\n",
      "Processing Record 44 of Set 5 | mouila\n",
      "Processing Record 45 of Set 5 | gobabis\n",
      "Processing Record 46 of Set 5 | mahebourg\n",
      "Processing Record 47 of Set 5 | coolum beach\n",
      "Processing Record 48 of Set 5 | supe\n",
      "Processing Record 49 of Set 5 | komsomolskiy\n",
      "Processing Record 50 of Set 5 | lesnoy\n",
      "Processing Record 1 of Set 6 | cap malheureux\n",
      "Processing Record 2 of Set 6 | kokopo\n",
      "Processing Record 3 of Set 6 | solnechnyy\n",
      "Processing Record 4 of Set 6 | aligudarz\n",
      "Processing Record 5 of Set 6 | abhar\n",
      "Processing Record 6 of Set 6 | mantua\n",
      "Processing Record 7 of Set 6 | roma\n",
      "Processing Record 8 of Set 6 | morgan city\n",
      "Processing Record 9 of Set 6 | lavrentiya\n",
      "Processing Record 10 of Set 6 | abu kamal\n",
      "Processing Record 11 of Set 6 | amderma\n",
      "Processing Record 12 of Set 6 | belushya guba\n",
      "Processing Record 13 of Set 6 | sainte-marie\n",
      "Processing Record 14 of Set 6 | fairbanks\n",
      "Processing Record 15 of Set 6 | maun\n",
      "Processing Record 16 of Set 6 | tasiilaq\n",
      "Processing Record 17 of Set 6 | nzerekore\n",
      "Processing Record 18 of Set 6 | dikson\n",
      "Processing Record 19 of Set 6 | namibe\n",
      "Processing Record 20 of Set 6 | tual\n",
      "Processing Record 21 of Set 6 | arvika\n",
      "Processing Record 22 of Set 6 | newcastle\n",
      "Processing Record 23 of Set 6 | hervey bay\n",
      "Processing Record 24 of Set 6 | tsilna\n",
      "Processing Record 25 of Set 6 | puerto narino\n",
      "Processing Record 26 of Set 6 | adrar\n",
      "Processing Record 27 of Set 6 | andros town\n",
      "Processing Record 28 of Set 6 | necochea\n",
      "Processing Record 29 of Set 6 | shakhtinsk\n",
      "Processing Record 30 of Set 6 | katherine\n",
      "Processing Record 31 of Set 6 | berlevag\n",
      "Processing Record 32 of Set 6 | puerto leguizamo\n",
      "Processing Record 33 of Set 6 | padang\n",
      "Processing Record 34 of Set 6 | coahuayana\n",
      "Processing Record 35 of Set 6 | maracaju\n",
      "Processing Record 36 of Set 6 | diofior\n",
      "Processing Record 37 of Set 6 | tay ninh\n",
      "Processing Record 38 of Set 6 | saint-joseph\n",
      "Processing Record 39 of Set 6 | tamasane\n",
      "Processing Record 40 of Set 6 | nyurba\n",
      "Processing Record 41 of Set 6 | alotau\n",
      "Processing Record 42 of Set 6 | ilulissat\n",
      "Processing Record 43 of Set 6 | luderitz\n",
      "Processing Record 44 of Set 6 | kodiak\n",
      "Processing Record 45 of Set 6 | hispania\n",
      "Processing Record 46 of Set 6 | rawson\n",
      "Processing Record 47 of Set 6 | filingue\n",
      "Processing Record 48 of Set 6 | charters towers\n",
      "Processing Record 49 of Set 6 | vanavara\n",
      "Processing Record 50 of Set 6 | misratah\n",
      "Processing Record 1 of Set 7 | khilok\n",
      "Processing Record 2 of Set 7 | leh\n",
      "Processing Record 3 of Set 7 | mitu\n",
      "Processing Record 4 of Set 7 | lasa\n",
      "Processing Record 5 of Set 7 | grand gaube\n",
      "Processing Record 6 of Set 7 | vigevano\n",
      "Processing Record 7 of Set 7 | sioux lookout\n",
      "Processing Record 8 of Set 7 | severo-kurilsk\n",
      "Processing Record 9 of Set 7 | casa nova\n",
      "Processing Record 10 of Set 7 | kavaratti\n",
      "Processing Record 11 of Set 7 | utiroa\n",
      "Processing Record 12 of Set 7 | rio gallegos\n",
      "Processing Record 13 of Set 7 | lillooet\n",
      "Processing Record 14 of Set 7 | ekibastuz\n",
      "Processing Record 15 of Set 7 | kaabong\n",
      "Processing Record 16 of Set 7 | churapcha\n",
      "Processing Record 17 of Set 7 | zhaoyuan\n",
      "Processing Record 18 of Set 7 | karaul\n",
      "Processing Record 19 of Set 7 | kadoma\n",
      "Processing Record 20 of Set 7 | okhotsk\n",
      "Processing Record 21 of Set 7 | sao joao da barra\n",
      "Processing Record 22 of Set 7 | baykit\n",
      "Processing Record 23 of Set 7 | nikolskoye\n",
      "Processing Record 24 of Set 7 | valparaiso\n",
      "Processing Record 25 of Set 7 | varzea da palma\n",
      "Processing Record 26 of Set 7 | aramaywan\n",
      "Processing Record 27 of Set 7 | acapulco\n",
      "Processing Record 28 of Set 7 | zhezkazgan\n",
      "Processing Record 29 of Set 7 | vilhena\n",
      "Processing Record 30 of Set 7 | mingyue\n",
      "Processing Record 31 of Set 7 | cidreira\n",
      "Processing Record 32 of Set 7 | ampanihy\n",
      "Processing Record 33 of Set 7 | maridi\n",
      "Processing Record 34 of Set 7 | tuggurt\n",
      "Processing Record 35 of Set 7 | adrian\n",
      "Processing Record 36 of Set 7 | ereymentau\n",
      "Processing Record 37 of Set 7 | madison\n",
      "Processing Record 38 of Set 7 | udachnyy\n",
      "Processing Record 39 of Set 7 | ancud\n",
      "Processing Record 40 of Set 7 | iberia\n",
      "Processing Record 41 of Set 7 | athabasca\n",
      "Processing Record 42 of Set 7 | tunduru\n",
      "Processing Record 43 of Set 7 | grindavik\n",
      "Processing Record 44 of Set 7 | frontera\n",
      "Processing Record 45 of Set 7 | hamilton\n",
      "Processing Record 46 of Set 7 | ndele\n",
      "Processing Record 47 of Set 7 | torres\n",
      "Processing Record 48 of Set 7 | alofi\n",
      "Processing Record 49 of Set 7 | ayni\n",
      "Processing Record 50 of Set 7 | killybegs\n",
      "Processing Record 1 of Set 8 | san patricio\n",
      "Processing Record 2 of Set 8 | nadym\n",
      "Processing Record 3 of Set 8 | iqaluit\n",
      "Processing Record 4 of Set 8 | gamba\n",
      "Processing Record 5 of Set 8 | ojinaga\n",
      "Processing Record 6 of Set 8 | kantang\n",
      "Processing Record 7 of Set 8 | santa marta\n",
      "Processing Record 8 of Set 8 | kruisfontein\n",
      "Processing Record 9 of Set 8 | vardo\n",
      "Processing Record 10 of Set 8 | roseto degli abruzzi\n",
      "Processing Record 11 of Set 8 | genhe\n",
      "Processing Record 12 of Set 8 | mangrol\n",
      "Processing Record 13 of Set 8 | blue springs\n",
      "Processing Record 14 of Set 8 | umzimvubu\n",
      "Processing Record 15 of Set 8 | shenjiamen\n",
      "Processing Record 16 of Set 8 | abu samrah\n",
      "Processing Record 17 of Set 8 | celestun\n",
      "Processing Record 18 of Set 8 | basco\n",
      "Processing Record 19 of Set 8 | dingle\n",
      "Processing Record 20 of Set 8 | kibara\n",
      "Processing Record 21 of Set 8 | obluche\n",
      "Processing Record 22 of Set 8 | luau\n",
      "Processing Record 23 of Set 8 | lorengau\n",
      "Processing Record 24 of Set 8 | vestmannaeyjar\n",
      "Processing Record 25 of Set 8 | cedar city\n",
      "Processing Record 26 of Set 8 | logan lake\n",
      "Processing Record 27 of Set 8 | birao\n",
      "Processing Record 28 of Set 8 | clyde river\n",
      "Processing Record 29 of Set 8 | naze\n",
      "Processing Record 30 of Set 8 | grand forks\n",
      "Processing Record 31 of Set 8 | nizhneyansk\n",
      "Processing Record 32 of Set 8 | skjervoy\n",
      "Processing Record 33 of Set 8 | conde\n",
      "Processing Record 34 of Set 8 | jasper\n",
      "Processing Record 35 of Set 8 | tikapur\n",
      "Processing Record 36 of Set 8 | lahij\n",
      "Processing Record 37 of Set 8 | saint-prosper\n",
      "Processing Record 38 of Set 8 | meyungs\n",
      "Processing Record 39 of Set 8 | samusu\n",
      "Processing Record 40 of Set 8 | krivosheino\n",
      "Processing Record 41 of Set 8 | atkinson\n",
      "Processing Record 42 of Set 8 | egvekinot\n",
      "Processing Record 43 of Set 8 | la paz\n",
      "Processing Record 44 of Set 8 | waingapu\n",
      "Processing Record 45 of Set 8 | gizo\n",
      "Processing Record 46 of Set 8 | port hardy\n",
      "Processing Record 47 of Set 8 | tulun\n",
      "Processing Record 48 of Set 8 | esso\n",
      "Processing Record 49 of Set 8 | kupang\n",
      "Processing Record 50 of Set 8 | ormstown\n",
      "Processing Record 1 of Set 9 | kailua\n",
      "Processing Record 2 of Set 9 | okha\n",
      "Processing Record 3 of Set 9 | port augusta\n",
      "Processing Record 4 of Set 9 | mogadishu\n",
      "Processing Record 5 of Set 9 | dover\n",
      "Processing Record 6 of Set 9 | tongling\n",
      "Processing Record 7 of Set 9 | whitehorse\n",
      "Processing Record 8 of Set 9 | alexandria\n",
      "Processing Record 9 of Set 9 | swellendam\n",
      "Processing Record 10 of Set 9 | seoul\n",
      "Processing Record 11 of Set 9 | copiapo\n",
      "Processing Record 12 of Set 9 | playas\n",
      "Processing Record 13 of Set 9 | vershino-shakhtaminskiy\n",
      "Processing Record 14 of Set 9 | berdigestyakh\n",
      "Processing Record 15 of Set 9 | manta\n",
      "Processing Record 16 of Set 9 | buckingham\n",
      "Processing Record 17 of Set 9 | louisbourg\n",
      "Processing Record 18 of Set 9 | kant\n",
      "Processing Record 19 of Set 9 | tabas\n",
      "Processing Record 20 of Set 9 | bilma\n",
      "Processing Record 21 of Set 9 | shache\n",
      "Processing Record 22 of Set 9 | los llanos de aridane\n",
      "Processing Record 23 of Set 9 | hilton head island\n",
      "Processing Record 24 of Set 9 | saint-pierre\n",
      "Processing Record 25 of Set 9 | nanortalik\n",
      "Processing Record 26 of Set 9 | anchorage\n",
      "Processing Record 27 of Set 9 | port blair\n",
      "Processing Record 28 of Set 9 | grande-riviere\n",
      "Processing Record 29 of Set 9 | lata\n",
      "Processing Record 30 of Set 9 | vyartsilya\n",
      "Processing Record 31 of Set 9 | ola\n",
      "Processing Record 32 of Set 9 | mazamari\n",
      "Processing Record 33 of Set 9 | vostok\n",
      "Processing Record 34 of Set 9 | touros\n",
      "Processing Record 35 of Set 9 | kawana waters\n",
      "Processing Record 36 of Set 9 | pasni\n",
      "Processing Record 37 of Set 9 | grajau\n",
      "Processing Record 38 of Set 9 | oistins\n",
      "Processing Record 39 of Set 9 | kahului\n",
      "Processing Record 40 of Set 9 | hihifo\n",
      "Processing Record 41 of Set 9 | brazzaville\n",
      "Processing Record 42 of Set 9 | ndjole\n",
      "Processing Record 43 of Set 9 | kamenka\n",
      "Processing Record 44 of Set 9 | pacific grove\n",
      "Processing Record 45 of Set 9 | flin flon\n",
      "Processing Record 46 of Set 9 | port-cartier\n",
      "Processing Record 47 of Set 9 | kegayli\n",
      "Processing Record 48 of Set 9 | yaan\n",
      "Processing Record 49 of Set 9 | caravelas\n",
      "Processing Record 50 of Set 9 | barcelos\n"
     ]
    },
    {
     "name": "stdout",
     "output_type": "stream",
     "text": [
      "Processing Record 1 of Set 10 | puerto escondido\n",
      "Processing Record 2 of Set 10 | yumen\n",
      "Processing Record 3 of Set 10 | irinjalakuda\n",
      "Processing Record 4 of Set 10 | pangai\n",
      "Processing Record 5 of Set 10 | labutta\n",
      "Processing Record 6 of Set 10 | kuandian\n",
      "Processing Record 7 of Set 10 | launceston\n",
      "Processing Record 8 of Set 10 | sao filipe\n",
      "Processing Record 9 of Set 10 | sanandaj\n",
      "Processing Record 10 of Set 10 | barbar\n",
      "Processing Record 11 of Set 10 | carnarvon\n",
      "Processing Record 12 of Set 10 | khatra\n",
      "Processing Record 13 of Set 10 | varlamovo\n",
      "Processing Record 14 of Set 10 | vitim\n",
      "Processing Record 15 of Set 10 | vila velha\n",
      "Processing Record 16 of Set 10 | quelimane\n",
      "Processing Record 17 of Set 10 | cabedelo\n",
      "Processing Record 18 of Set 10 | shizunai\n",
      "Processing Record 19 of Set 10 | opuwo\n",
      "Processing Record 20 of Set 10 | kimbe\n",
      "Processing Record 21 of Set 10 | west wendover\n",
      "Processing Record 22 of Set 10 | tevaitoa\n",
      "Processing Record 23 of Set 10 | omsukchan\n",
      "Processing Record 24 of Set 10 | moose factory\n",
      "Processing Record 25 of Set 10 | cockburn town\n",
      "Processing Record 26 of Set 10 | muros\n",
      "Processing Record 27 of Set 10 | tazovskiy\n",
      "Processing Record 28 of Set 10 | caidquid\n",
      "Processing Record 29 of Set 10 | nishihara\n",
      "Processing Record 30 of Set 10 | non sung\n",
      "Processing Record 31 of Set 10 | kudahuvadhoo\n",
      "Processing Record 32 of Set 10 | asau\n",
      "Processing Record 33 of Set 10 | noshiro\n",
      "Processing Record 34 of Set 10 | sangar\n",
      "Processing Record 35 of Set 10 | samarai\n",
      "Processing Record 36 of Set 10 | petropavlovsk-kamchatskiy\n",
      "Processing Record 37 of Set 10 | kokstad\n",
      "Processing Record 38 of Set 10 | arsenyev\n",
      "Processing Record 39 of Set 10 | tsumeb\n",
      "Processing Record 40 of Set 10 | honiara\n",
      "Processing Record 41 of Set 10 | viedma\n",
      "Processing Record 42 of Set 10 | oriximina\n",
      "Processing Record 43 of Set 10 | faanui\n",
      "Processing Record 44 of Set 10 | rio grande\n",
      "Processing Record 45 of Set 10 | marzuq\n",
      "Processing Record 46 of Set 10 | independence\n",
      "Processing Record 47 of Set 10 | semnan\n",
      "Processing Record 48 of Set 10 | yerbogachen\n",
      "Processing Record 49 of Set 10 | biak\n",
      "Processing Record 50 of Set 10 | dracena\n"
     ]
    }
   ],
   "source": [
    "# Loop through all the cities in the list.\n",
    "for i, city in enumerate(cities):\n",
    "\n",
    "    # Group cities in sets of 50 for logging purposes.\n",
    "    if (i % 50 == 0 and i >= 50):\n",
    "        set_count += 1\n",
    "        record_count = 1\n",
    "        time.sleep(60)\n",
    "\n",
    "    # Create endpoint URL with each city.\n",
    "    city_url = url + \"&q=\" + city.replace(\" \",\"+\")\n",
    "\n",
    "    # Log the URL, record, and set numbers and the city.\n",
    "    print(f\"Processing Record {record_count} of Set {set_count} | {city}\")\n",
    "    # Add 1 to the record count.\n",
    "    record_count += 1"
   ]
  },
  {
   "cell_type": "code",
   "execution_count": null,
   "id": "a2b92f2a",
   "metadata": {},
   "outputs": [],
   "source": [
    "#try:\n",
    "  #Do something\n",
    "#except:\n",
    "  #print(\"An exception occurred\")\n",
    "    \n",
    "# Loop through all the cities in the list.\n",
    "for i, city in enumerate(cities):\n",
    "\n",
    "    # Group cities in sets of 50 for logging purposes.\n",
    "    if (i % 50 == 0 and i >= 50):\n",
    "        set_count += 1\n",
    "        record_count = 1\n",
    "        time.sleep(60)\n",
    "\n",
    "    # Create endpoint URL with each city.\n",
    "    city_url = url + \"&q=\" + city.replace(\" \",\"+\")\n",
    "\n",
    "    # Log the URL, record, and set numbers and the city.\n",
    "    print(f\"Processing Record {record_count} of Set {set_count} | {city}\")\n",
    "    # Add 1 to the record count.\n",
    "    record_count += 1    \n",
    "# Run an API request for each of the cities.\n",
    "    try:\n",
    "        # Parse the JSON and retrieve data.\n",
    "        city_weather = requests.get(city_url).json()\n",
    "        # Parse out the needed data.\n",
    "        city_lat = city_weather[\"coord\"][\"lat\"]\n",
    "        city_lng = city_weather[\"coord\"][\"lon\"]\n",
    "        city_max_temp = city_weather[\"main\"][\"temp_max\"]\n",
    "        city_humidity = city_weather[\"main\"][\"humidity\"]\n",
    "        city_clouds = city_weather[\"clouds\"][\"all\"]\n",
    "        city_wind = city_weather[\"wind\"][\"speed\"]\n",
    "        city_country = city_weather[\"sys\"][\"country\"]\n",
    "        # Convert the date to ISO standard.\n",
    "        city_date = datetime.utcfromtimestamp(city_weather[\"dt\"]).strftime('%Y-%m-%d %H:%M:%S')\n",
    "        # Append the city information into city_data list.\n",
    "        city_data.append({\"City\": city.title(),\n",
    "                          \"Lat\": city_lat,\n",
    "                          \"Lng\": city_lng,\n",
    "                          \"Max Temp\": city_max_temp,\n",
    "                          \"Humidity\": city_humidity,\n",
    "                          \"Cloudiness\": city_clouds,\n",
    "                          \"Wind Speed\": city_wind,\n",
    "                          \"Country\": city_country,\n",
    "                          \"Date\": city_date})\n",
    "\n",
    "# If an error is experienced, skip the city.\n",
    "    except:\n",
    "        print(\"City not found. Skipping...\")\n",
    "        pass\n",
    "\n",
    "# Indicate that Data Loading is complete.\n",
    "print(\"-----------------------------\")\n",
    "print(\"Data Retrieval Complete      \")\n",
    "print(\"-----------------------------\")"
   ]
  },
  {
   "cell_type": "code",
   "execution_count": null,
   "id": "7147cdaa",
   "metadata": {},
   "outputs": [],
   "source": [
    "# Convert the array of dictionaries to a Pandas DataFrame.\n",
    "city_data_df = pd.DataFrame(city_data)\n",
    "city_data_df.head(10)"
   ]
  },
  {
   "cell_type": "code",
   "execution_count": null,
   "id": "b9e77cd4",
   "metadata": {},
   "outputs": [],
   "source": [
    "#new_column_order = [\"column2\", \"column4\", \"column1\"]\n",
    "#df = df[new_column_order]"
   ]
  },
  {
   "cell_type": "code",
   "execution_count": null,
   "id": "6d033bf6",
   "metadata": {},
   "outputs": [],
   "source": [
    "# Create the output file (CSV).\n",
    "output_data_file = \"weather_data/cities.csv\"\n",
    "# Export the City_Data into a CSV.\n",
    "city_data_df.to_csv(output_data_file, index_label=\"City_ID\")"
   ]
  },
  {
   "cell_type": "code",
   "execution_count": null,
   "id": "fcd54011",
   "metadata": {},
   "outputs": [],
   "source": []
  },
  {
   "cell_type": "code",
   "execution_count": null,
   "id": "c9b681d1",
   "metadata": {},
   "outputs": [],
   "source": []
  },
  {
   "cell_type": "code",
   "execution_count": null,
   "id": "dd2ff3d8",
   "metadata": {},
   "outputs": [],
   "source": []
  }
 ],
 "metadata": {
  "kernelspec": {
   "display_name": "PythonData",
   "language": "python",
   "name": "pythondata"
  },
  "language_info": {
   "codemirror_mode": {
    "name": "ipython",
    "version": 3
   },
   "file_extension": ".py",
   "mimetype": "text/x-python",
   "name": "python",
   "nbconvert_exporter": "python",
   "pygments_lexer": "ipython3",
   "version": "3.9.7"
  }
 },
 "nbformat": 4,
 "nbformat_minor": 5
}
