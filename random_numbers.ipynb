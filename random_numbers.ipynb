{
 "cells": [
  {
   "cell_type": "code",
   "execution_count": 1,
   "id": "45d415bc",
   "metadata": {},
   "outputs": [],
   "source": [
    "import random"
   ]
  },
  {
   "cell_type": "code",
   "execution_count": 6,
   "id": "07dbe4b4",
   "metadata": {},
   "outputs": [
    {
     "data": {
      "text/plain": [
       "0.09169912533926627"
      ]
     },
     "execution_count": 6,
     "metadata": {},
     "output_type": "execute_result"
    }
   ],
   "source": [
    "random.random()"
   ]
  },
  {
   "cell_type": "code",
   "execution_count": 4,
   "id": "6932874f",
   "metadata": {},
   "outputs": [
    {
     "data": {
      "text/plain": [
       "12"
      ]
     },
     "execution_count": 4,
     "metadata": {},
     "output_type": "execute_result"
    }
   ],
   "source": [
    "random.randint(-90,90)"
   ]
  },
  {
   "cell_type": "code",
   "execution_count": null,
   "id": "1fd0ce82",
   "metadata": {},
   "outputs": [],
   "source": [
    "random.randrange(-9,9,2)"
   ]
  },
  {
   "cell_type": "code",
   "execution_count": null,
   "id": "2b23960d",
   "metadata": {},
   "outputs": [],
   "source": [
    "random.uniform(-10,10)"
   ]
  },
  {
   "cell_type": "code",
   "execution_count": 19,
   "id": "0c35dec2",
   "metadata": {},
   "outputs": [
    {
     "data": {
      "text/plain": [
       "[24.73585753078488,\n",
       " 45.57603152845043,\n",
       " 81.53738597485645,\n",
       " 58.71867709098839,\n",
       " 86.06825669098944,\n",
       " -1.0672474635561473,\n",
       " 25.471205928892218,\n",
       " -19.3390054249531,\n",
       " 45.23394463358992,\n",
       " -13.561512216393663]"
      ]
     },
     "execution_count": 19,
     "metadata": {},
     "output_type": "execute_result"
    }
   ],
   "source": [
    "x = 1\n",
    "latitudes = []\n",
    "while x < 11:\n",
    "    random_lat = random.randint(-90, 89) + random.random()\n",
    "    latitudes.append(random_lat)\n",
    "    x += 1\n",
    "latitudes    "
   ]
  },
  {
   "cell_type": "code",
   "execution_count": 10,
   "id": "b5482b22",
   "metadata": {},
   "outputs": [
    {
     "data": {
      "text/plain": [
       "-78"
      ]
     },
     "execution_count": 10,
     "metadata": {},
     "output_type": "execute_result"
    }
   ],
   "source": [
    "random.randrange(-90, 90, step=3)"
   ]
  },
  {
   "cell_type": "code",
   "execution_count": 11,
   "id": "f2f5079e",
   "metadata": {},
   "outputs": [],
   "source": [
    "# Import the NumPy module.\n",
    "import numpy as np"
   ]
  },
  {
   "cell_type": "code",
   "execution_count": 12,
   "id": "cc7cfcaa",
   "metadata": {},
   "outputs": [
    {
     "data": {
      "text/plain": [
       "55.30364482976765"
      ]
     },
     "execution_count": 12,
     "metadata": {},
     "output_type": "execute_result"
    }
   ],
   "source": [
    "np.random.uniform(-90.000, 90.000)"
   ]
  },
  {
   "cell_type": "code",
   "execution_count": 13,
   "id": "be227202",
   "metadata": {},
   "outputs": [
    {
     "data": {
      "text/plain": [
       "2.1268365464908925"
      ]
     },
     "execution_count": 13,
     "metadata": {},
     "output_type": "execute_result"
    }
   ],
   "source": [
    "np.random.uniform(low=-90, high=90)"
   ]
  },
  {
   "cell_type": "code",
   "execution_count": 14,
   "id": "82d978fd",
   "metadata": {},
   "outputs": [
    {
     "data": {
      "text/plain": [
       "array([ -6.63222126, -58.38508369, -32.06563678,  45.72474623,\n",
       "        31.41264948, -41.57773969, -70.57321195, -68.95824312,\n",
       "        17.29879333, -83.1491124 , -35.21363857,  -2.19294683,\n",
       "       -21.73542169,  -9.8081858 ,  84.97703091, -73.37623385,\n",
       "       -28.58041608,   8.17870396,   5.68447715, -20.69360728,\n",
       "        84.49919566,  16.17054125,  48.90949484,  25.05457435,\n",
       "       -85.43008195, -82.38038231,  27.03731233, -71.98965523,\n",
       "       -51.73849253,  89.07553201, -28.23479138, -52.62444149,\n",
       "       -63.35008561,  88.44476298,  57.29968019,  88.95903949,\n",
       "       -10.55717155,  50.07434187, -26.77676534,  73.64828371,\n",
       "       -67.15756443, -39.52611558, -61.32721136, -50.83722135,\n",
       "       -44.1056572 ,  83.5275997 ,  27.13616922,  57.39064938,\n",
       "         6.40728756,  30.53577003])"
      ]
     },
     "execution_count": 14,
     "metadata": {},
     "output_type": "execute_result"
    }
   ],
   "source": [
    "np.random.uniform(-90.000, 90.000, size=50)"
   ]
  },
  {
   "cell_type": "code",
   "execution_count": 15,
   "id": "8c68b158",
   "metadata": {},
   "outputs": [],
   "source": [
    "# Import timeit.\n",
    "import timeit"
   ]
  },
  {
   "cell_type": "code",
   "execution_count": 17,
   "id": "af67c4df",
   "metadata": {},
   "outputs": [
    {
     "name": "stdout",
     "output_type": "stream",
     "text": [
      "14.3 µs ± 224 ns per loop (mean ± std. dev. of 7 runs, 100000 loops each)\n"
     ]
    }
   ],
   "source": [
    "%timeit np.random.uniform(-90.000, 90.000, size=1500)"
   ]
  },
  {
   "cell_type": "code",
   "execution_count": 18,
   "id": "8b06d229",
   "metadata": {},
   "outputs": [
    {
     "name": "stdout",
     "output_type": "stream",
     "text": [
      "1.39 ms ± 73.5 µs per loop (mean ± std. dev. of 7 runs, 1000 loops each)\n"
     ]
    }
   ],
   "source": [
    "def latitudes(size):\n",
    "    latitudes = []\n",
    "    x = 0\n",
    "    while x < (size):\n",
    "        random_lat = random.randint(-90, 90) + random.random()\n",
    "        latitudes.append(random_lat)\n",
    "        x += 1\n",
    "    return latitudes\n",
    "# Call the function with 1500.\n",
    "%timeit latitudes(1500)"
   ]
  },
  {
   "cell_type": "code",
   "execution_count": 20,
   "id": "6752e3ac",
   "metadata": {},
   "outputs": [
    {
     "name": "stdout",
     "output_type": "stream",
     "text": [
      "1.42 ms ± 36.6 µs per loop (mean ± std. dev. of 7 runs, 1000 loops each)\n"
     ]
    }
   ],
   "source": [
    "def latitudes_for_loop(size):\n",
    "    latitudes = []\n",
    "    for x in range(0,size):\n",
    "        random_lat = random.randint(-90, 90) + random.random()\n",
    "        latitudes.append(random_lat)\n",
    "    return latitudes\n",
    "# Call the function with 1500.\n",
    "%timeit latitudes_for_loop(1500)"
   ]
  },
  {
   "cell_type": "code",
   "execution_count": null,
   "id": "5ce065aa",
   "metadata": {},
   "outputs": [],
   "source": []
  },
  {
   "cell_type": "code",
   "execution_count": null,
   "id": "69bec7d6",
   "metadata": {},
   "outputs": [],
   "source": []
  },
  {
   "cell_type": "code",
   "execution_count": null,
   "id": "511fe7e8",
   "metadata": {},
   "outputs": [],
   "source": []
  },
  {
   "cell_type": "code",
   "execution_count": null,
   "id": "51b0db20",
   "metadata": {},
   "outputs": [],
   "source": []
  },
  {
   "cell_type": "code",
   "execution_count": null,
   "id": "05282219",
   "metadata": {},
   "outputs": [],
   "source": []
  },
  {
   "cell_type": "code",
   "execution_count": null,
   "id": "a3536e00",
   "metadata": {},
   "outputs": [],
   "source": []
  },
  {
   "cell_type": "code",
   "execution_count": null,
   "id": "5955bfac",
   "metadata": {},
   "outputs": [],
   "source": []
  },
  {
   "cell_type": "code",
   "execution_count": null,
   "id": "e7e5e879",
   "metadata": {},
   "outputs": [],
   "source": []
  }
 ],
 "metadata": {
  "kernelspec": {
   "display_name": "PythonData",
   "language": "python",
   "name": "pythondata"
  },
  "language_info": {
   "codemirror_mode": {
    "name": "ipython",
    "version": 3
   },
   "file_extension": ".py",
   "mimetype": "text/x-python",
   "name": "python",
   "nbconvert_exporter": "python",
   "pygments_lexer": "ipython3",
   "version": "3.9.7"
  }
 },
 "nbformat": 4,
 "nbformat_minor": 5
}
